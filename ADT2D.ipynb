{
  "nbformat": 4,
  "nbformat_minor": 0,
  "metadata": {
    "colab": {
      "name": "ADT2D.ipynb",
      "provenance": [],
      "authorship_tag": "ABX9TyPSSnA40sE5gNReAfw3iFEp",
      "include_colab_link": true
    },
    "kernelspec": {
      "name": "python3",
      "display_name": "Python 3"
    },
    "language_info": {
      "name": "python"
    }
  },
  "cells": [
    {
      "cell_type": "markdown",
      "metadata": {
        "id": "view-in-github",
        "colab_type": "text"
      },
      "source": [
        "<a href=\"https://colab.research.google.com/github/SebastianG30/EstructuraDeDatos_1358/blob/main/ADT2D.ipynb\" target=\"_parent\"><img src=\"https://colab.research.google.com/assets/colab-badge.svg\" alt=\"Open In Colab\"/></a>"
      ]
    },
    {
      "cell_type": "code",
      "metadata": {
        "id": "zGMSzqMmpbV1"
      },
      "source": [
        "\n",
        "class Array2D(3,4):\n",
        "    def __init__(self,ren, col, per, cle):\n",
        "        self.__renglon = ren\n",
        "        self.__columna = col\n",
        "        self.__persona = per\n",
        "        self.__limpiar = cle\n",
        "\n",
        "    def get_row_size ():\n",
        "      return \n",
        "\n",
        "    def get_col_size ():\n",
        "\n",
        "    def set_item ():\n",
        "      \n"
      ],
      "execution_count": null,
      "outputs": []
    }
  ]
}