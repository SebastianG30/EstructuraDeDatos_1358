{
  "nbformat": 4,
  "nbformat_minor": 0,
  "metadata": {
    "colab": {
      "name": "ADT.ipynb",
      "provenance": [],
      "authorship_tag": "ABX9TyNXx/biuNeBmGbfwkij9bzL",
      "include_colab_link": true
    },
    "kernelspec": {
      "name": "python3",
      "display_name": "Python 3"
    },
    "language_info": {
      "name": "python"
    }
  },
  "cells": [
    {
      "cell_type": "markdown",
      "metadata": {
        "id": "view-in-github",
        "colab_type": "text"
      },
      "source": [
        "<a href=\"https://colab.research.google.com/github/SebastianG30/EstructuraDeDatos_1358/blob/main/ADT.ipynb\" target=\"_parent\"><img src=\"https://colab.research.google.com/assets/colab-badge.svg\" alt=\"Open In Colab\"/></a>"
      ]
    },
    {
      "cell_type": "code",
      "metadata": {
        "colab": {
          "base_uri": "https://localhost:8080/"
        },
        "id": "0wZhCoJZC6ke",
        "outputId": "1f6d3a1e-b268-40df-f5ba-b06e7107fc90"
      },
      "source": [
        "!pip install simple_chalk"
      ],
      "execution_count": 37,
      "outputs": [
        {
          "output_type": "stream",
          "name": "stdout",
          "text": [
            "Collecting simple_chalk\n",
            "  Downloading simple_chalk-0.1.0.tar.gz (13 kB)\n",
            "Building wheels for collected packages: simple-chalk\n",
            "  Building wheel for simple-chalk (setup.py) ... \u001b[?25l\u001b[?25hdone\n",
            "  Created wheel for simple-chalk: filename=simple_chalk-0.1.0-py3-none-any.whl size=22163 sha256=c5c6cf881c46ab735f3aa14105ec91e227dd918b5c42de9bdb697e8f05f389cc\n",
            "  Stored in directory: /root/.cache/pip/wheels/24/e2/84/d54838032016039eef79df1137b91defaa6db068d825dfcdcd\n",
            "Successfully built simple-chalk\n",
            "Installing collected packages: simple-chalk\n",
            "Successfully installed simple-chalk-0.1.0\n"
          ]
        }
      ]
    },
    {
      "cell_type": "code",
      "metadata": {
        "id": "rsPtLtUK9-Sw"
      },
      "source": [
        "class Array2D():\n",
        "  \n",
        "  def __init__(self, ren, col):\n",
        "    self.__columnas = col\n",
        "    self.__renglones = ren\n",
        "    self.__data = [[ 0 for i in range(col)]for i in range (ren)]\n",
        "\n",
        "  def to_string(self):\n",
        "    print(self.__data)\n",
        "    for i in range(self.__renglones):\n",
        "      print(self.__data[i])\n",
        "\n",
        "  def clear(self, dato):\n",
        "    for i in range (self.__renglones):\n",
        "      for x in range(self.__columnas):\n",
        "        self.__data[i][x] = dato\n",
        "\n",
        "  def get_row_size(self):\n",
        "    return self.__renglones\n",
        "\n",
        "  \n",
        "  def get_col_size(self):\n",
        "    return self.__columnas\n",
        "  \n",
        "  def set_item(self,ren,col,dato):\n",
        "    self.__data[ren][col] = dato\n",
        "\n",
        "  def get_item(self,ren,col):\n",
        "    return self.__data[ren][col]"
      ],
      "execution_count": 38,
      "outputs": []
    },
    {
      "cell_type": "code",
      "metadata": {
        "colab": {
          "base_uri": "https://localhost:8080/"
        },
        "id": "v9-o4ufs-H5U",
        "outputId": "4cdaf0d1-0818-4e21-c5ab-386b44e33edd"
      },
      "source": [
        "tablero = Array2D(6,5)\n",
        "tablero.to_string()\n",
        "tablero.clear('M')\n",
        "print(\"----Población inicial----\")\n",
        "tablero.to_string()\n",
        "\n",
        "print(\"-----Una idea de como establecer la población inicial-----\")\n",
        "poblacion_inicial = [(2,3) , (3,1) , (3,2) , (3,3)]\n",
        "\n",
        "for par in poblacion_inicial:\n",
        "  tablero.set_item(par[0],par[1], 'v')\n",
        "\n",
        "tablero.to_string()\n",
        "\n",
        "print(tablero.get_col_size())\n",
        "print(tablero.get_row_size())\n",
        "\n",
        "celula = tablero.get_item(2,1)\n",
        "print(celula)\n",
        "\n",
        "celula = tablero.get_item(2,2)\n",
        "print(celula)\n",
        "\n",
        "# Esto no se debe de hacer, porque es dificil de darle mantenimiento"
      ],
      "execution_count": 39,
      "outputs": [
        {
          "output_type": "stream",
          "name": "stdout",
          "text": [
            "[[0, 0, 0, 0, 0], [0, 0, 0, 0, 0], [0, 0, 0, 0, 0], [0, 0, 0, 0, 0], [0, 0, 0, 0, 0], [0, 0, 0, 0, 0]]\n",
            "[0, 0, 0, 0, 0]\n",
            "[0, 0, 0, 0, 0]\n",
            "[0, 0, 0, 0, 0]\n",
            "[0, 0, 0, 0, 0]\n",
            "[0, 0, 0, 0, 0]\n",
            "[0, 0, 0, 0, 0]\n",
            "----Población inicial----\n",
            "[['M', 'M', 'M', 'M', 'M'], ['M', 'M', 'M', 'M', 'M'], ['M', 'M', 'M', 'M', 'M'], ['M', 'M', 'M', 'M', 'M'], ['M', 'M', 'M', 'M', 'M'], ['M', 'M', 'M', 'M', 'M']]\n",
            "['M', 'M', 'M', 'M', 'M']\n",
            "['M', 'M', 'M', 'M', 'M']\n",
            "['M', 'M', 'M', 'M', 'M']\n",
            "['M', 'M', 'M', 'M', 'M']\n",
            "['M', 'M', 'M', 'M', 'M']\n",
            "['M', 'M', 'M', 'M', 'M']\n",
            "-----Una idea de como establecer la población inicial-----\n",
            "[['M', 'M', 'M', 'M', 'M'], ['M', 'M', 'M', 'M', 'M'], ['M', 'M', 'M', 'v', 'M'], ['M', 'v', 'v', 'v', 'M'], ['M', 'M', 'M', 'M', 'M'], ['M', 'M', 'M', 'M', 'M']]\n",
            "['M', 'M', 'M', 'M', 'M']\n",
            "['M', 'M', 'M', 'M', 'M']\n",
            "['M', 'M', 'M', 'v', 'M']\n",
            "['M', 'v', 'v', 'v', 'M']\n",
            "['M', 'M', 'M', 'M', 'M']\n",
            "['M', 'M', 'M', 'M', 'M']\n",
            "5\n",
            "6\n",
            "M\n",
            "M\n"
          ]
        }
      ]
    },
    {
      "cell_type": "markdown",
      "metadata": {
        "id": "Y5arL2d7GyQk"
      },
      "source": [
        "##¿Como se debería programar el juego de la vida?\n",
        "\n",
        "## Programar un ADT especifico para empaquetar la logica del juego de la vida."
      ]
    },
    {
      "cell_type": "code",
      "metadata": {
        "id": "HQ2UIXInG1XE"
      },
      "source": [
        "\"\"\"\n",
        "En el constructor:\n",
        "  lista_pob_inicial es una lista de tuplas que contiene las cordenadas\n",
        "  ((ren,col))\n",
        "\n",
        "\"\"\"\n",
        "class JuegoDeLaVidaADT:\n",
        "  def __init__(self, rens, cols, lista_pob_inicial, generaciones):\n",
        "    self.tablero = Array2D(rens, cols)\n",
        "    self.generaciones = generaciones\n",
        "    self.gen = 1\n",
        "    self.tablero.clear('M')\n",
        "    self.ren = rens \n",
        "    self.col = cols \n",
        "    for par in lista_pob_inicial:\n",
        "      self.tablero.set_item(par[0], par[1], 'V')\n",
        "\n",
        "  def formato( self ):\n",
        "        formato = self.tablero.get_info()\n",
        "\n",
        "        for i in range( len(formato) ):\n",
        "            row = formato[i]\n",
        "            str = ' '\n",
        "            for i in range( len( row )):\n",
        "                if row[i] == 'M':\n",
        "                    str = str + chalk.white( row[i] ) + ' '\n",
        "                elif row[i] == 'V':\n",
        "                    str = str + chalk.red( row[i] ) + ' '\n",
        "            print(str)\n",
        "\n",
        "  def to_string(self):\n",
        "    for i in range( self.generaciones ):\n",
        "      print(f\"----GENERACIÓN---- {self.gen}\")\n",
        "      self.formato()\n",
        "      self.aplicarReglas()\n",
        "\n",
        "  \n",
        "  def get_vecinos (r,c):\n",
        "    vecinos = []\n",
        "    for ren in range(r-1,r+2,1):\n",
        "      for col in range(c-1,c+2,1):\n",
        "        if ren < 0 or ren >= self.tablero.get_row_size() or col < 0 or col >= self.tablero.get_col_size() or (ren==r and col==c):\n",
        "          pass\n",
        "        else:\n",
        "          vecinos.append((ren,col))\n",
        "    return vecinos\n",
        "\n",
        "  \"\"\"\n",
        "  get_vecinos_vivos(r,c)\n",
        "  \"\"\"\n",
        "\n",
        "  def get_vecinos_vivos(self,r,c):\n",
        "    vivos = 0\n",
        "    vecinos = self.get_vecinos(r,c)\n",
        "    for par in vecinos:\n",
        "      if self.tablero.get_item(par[0],par[1]) == 'V':\n",
        "        vivos += 1\n",
        "    return vivos\n",
        "\n",
        "  def aplicarReglas( self ):\n",
        "        nuevoEstado = []\n",
        "\n",
        "        for cor in self.cors:\n",
        "            vivos = self.vecinosVivos( cor[0], cor[1] )\n",
        "            estado = self.tablero.get_item( cor[0], cor[1] )\n",
        "            \n",
        "            if estado == 'V':\n",
        "                if vivos == 2 or vivos == 3:\n",
        "                    nuevoEstado.append('V')\n",
        "                elif vivos == 1 or vivos == 0:\n",
        "                    nuevoEstado.append('M')\n",
        "                elif vivos >= 4 :\n",
        "                    nuevoEstado.append('M')\n",
        "            elif estado  == 'M':\n",
        "                if vivos == 3 :\n",
        "                    nuevoEstado.append('V')\n",
        "                else:\n",
        "                    nuevoEstado.append('M')\n",
        "\n",
        "        for cor in self.cors:\n",
        "            self.tablero.set_item( cor[0], cor[1] ,nuevoEstado[0])\n",
        "            nuevoEstado.pop( 0 )\n",
        "\n",
        "        self.gen += 1"
      ],
      "execution_count": 40,
      "outputs": []
    },
    {
      "cell_type": "code",
      "metadata": {
        "colab": {
          "base_uri": "https://localhost:8080/",
          "height": 392
        },
        "id": "V_q_5khzMZjY",
        "outputId": "f59006ed-9410-4457-da45-f727da0c2f63"
      },
      "source": [
        "juego = JuegoDeLaVidaADT (6,5, [(2,2),(3,1),(3,2),(3,3)],5)\n",
        "juego.to_string()\n",
        "print(\"Vecinos de 0,0\")\n",
        "print(juego.get_vecinos(2,2))\n",
        "print(juego.get_vecinos_vivos(2,2))\n",
        "print(vecinos)\n",
        "print(estado)\n",
        "print(vivos)\n",
        "r = 0\n",
        "c = 0\n",
        "print(f\"Vecinos vivos de {r},{c} son {juego.get_vecinos_vivos(r,c)}\")"
      ],
      "execution_count": 44,
      "outputs": [
        {
          "output_type": "stream",
          "name": "stdout",
          "text": [
            "----GENERACIÓN---- 1\n"
          ]
        },
        {
          "output_type": "error",
          "ename": "AttributeError",
          "evalue": "ignored",
          "traceback": [
            "\u001b[0;31m---------------------------------------------------------------------------\u001b[0m",
            "\u001b[0;31mAttributeError\u001b[0m                            Traceback (most recent call last)",
            "\u001b[0;32m<ipython-input-44-63330b4cd841>\u001b[0m in \u001b[0;36m<module>\u001b[0;34m()\u001b[0m\n\u001b[1;32m      1\u001b[0m \u001b[0mjuego\u001b[0m \u001b[0;34m=\u001b[0m \u001b[0mJuegoDeLaVidaADT\u001b[0m \u001b[0;34m(\u001b[0m\u001b[0;36m6\u001b[0m\u001b[0;34m,\u001b[0m\u001b[0;36m5\u001b[0m\u001b[0;34m,\u001b[0m \u001b[0;34m[\u001b[0m\u001b[0;34m(\u001b[0m\u001b[0;36m2\u001b[0m\u001b[0;34m,\u001b[0m\u001b[0;36m2\u001b[0m\u001b[0;34m)\u001b[0m\u001b[0;34m,\u001b[0m\u001b[0;34m(\u001b[0m\u001b[0;36m3\u001b[0m\u001b[0;34m,\u001b[0m\u001b[0;36m1\u001b[0m\u001b[0;34m)\u001b[0m\u001b[0;34m,\u001b[0m\u001b[0;34m(\u001b[0m\u001b[0;36m3\u001b[0m\u001b[0;34m,\u001b[0m\u001b[0;36m2\u001b[0m\u001b[0;34m)\u001b[0m\u001b[0;34m,\u001b[0m\u001b[0;34m(\u001b[0m\u001b[0;36m3\u001b[0m\u001b[0;34m,\u001b[0m\u001b[0;36m3\u001b[0m\u001b[0;34m)\u001b[0m\u001b[0;34m]\u001b[0m\u001b[0;34m,\u001b[0m\u001b[0;36m5\u001b[0m\u001b[0;34m)\u001b[0m\u001b[0;34m\u001b[0m\u001b[0;34m\u001b[0m\u001b[0m\n\u001b[0;32m----> 2\u001b[0;31m \u001b[0mjuego\u001b[0m\u001b[0;34m.\u001b[0m\u001b[0mto_string\u001b[0m\u001b[0;34m(\u001b[0m\u001b[0;34m)\u001b[0m\u001b[0;34m\u001b[0m\u001b[0;34m\u001b[0m\u001b[0m\n\u001b[0m\u001b[1;32m      3\u001b[0m \u001b[0mprint\u001b[0m\u001b[0;34m(\u001b[0m\u001b[0;34m\"Vecinos de 0,0\"\u001b[0m\u001b[0;34m)\u001b[0m\u001b[0;34m\u001b[0m\u001b[0;34m\u001b[0m\u001b[0m\n\u001b[1;32m      4\u001b[0m \u001b[0mprint\u001b[0m\u001b[0;34m(\u001b[0m\u001b[0mjuego\u001b[0m\u001b[0;34m.\u001b[0m\u001b[0mget_vecinos\u001b[0m\u001b[0;34m(\u001b[0m\u001b[0;36m2\u001b[0m\u001b[0;34m,\u001b[0m\u001b[0;36m2\u001b[0m\u001b[0;34m)\u001b[0m\u001b[0;34m)\u001b[0m\u001b[0;34m\u001b[0m\u001b[0;34m\u001b[0m\u001b[0m\n\u001b[1;32m      5\u001b[0m \u001b[0mprint\u001b[0m\u001b[0;34m(\u001b[0m\u001b[0mjuego\u001b[0m\u001b[0;34m.\u001b[0m\u001b[0mget_vecinos_vivos\u001b[0m\u001b[0;34m(\u001b[0m\u001b[0;36m2\u001b[0m\u001b[0;34m,\u001b[0m\u001b[0;36m2\u001b[0m\u001b[0;34m)\u001b[0m\u001b[0;34m)\u001b[0m\u001b[0;34m\u001b[0m\u001b[0;34m\u001b[0m\u001b[0m\n",
            "\u001b[0;32m<ipython-input-40-1abed6f17fe3>\u001b[0m in \u001b[0;36mto_string\u001b[0;34m(self)\u001b[0m\n\u001b[1;32m     32\u001b[0m     \u001b[0;32mfor\u001b[0m \u001b[0mi\u001b[0m \u001b[0;32min\u001b[0m \u001b[0mrange\u001b[0m\u001b[0;34m(\u001b[0m \u001b[0mself\u001b[0m\u001b[0;34m.\u001b[0m\u001b[0mgeneraciones\u001b[0m \u001b[0;34m)\u001b[0m\u001b[0;34m:\u001b[0m\u001b[0;34m\u001b[0m\u001b[0;34m\u001b[0m\u001b[0m\n\u001b[1;32m     33\u001b[0m       \u001b[0mprint\u001b[0m\u001b[0;34m(\u001b[0m\u001b[0;34mf\"----GENERACIÓN---- {self.gen}\"\u001b[0m\u001b[0;34m)\u001b[0m\u001b[0;34m\u001b[0m\u001b[0;34m\u001b[0m\u001b[0m\n\u001b[0;32m---> 34\u001b[0;31m       \u001b[0mself\u001b[0m\u001b[0;34m.\u001b[0m\u001b[0mformato\u001b[0m\u001b[0;34m(\u001b[0m\u001b[0;34m)\u001b[0m\u001b[0;34m\u001b[0m\u001b[0;34m\u001b[0m\u001b[0m\n\u001b[0m\u001b[1;32m     35\u001b[0m       \u001b[0mself\u001b[0m\u001b[0;34m.\u001b[0m\u001b[0maplicarReglas\u001b[0m\u001b[0;34m(\u001b[0m\u001b[0;34m)\u001b[0m\u001b[0;34m\u001b[0m\u001b[0;34m\u001b[0m\u001b[0m\n\u001b[1;32m     36\u001b[0m       \u001b[0mself\u001b[0m\u001b[0;34m.\u001b[0m\u001b[0mto_string\u001b[0m\u001b[0;34m(\u001b[0m\u001b[0;34m)\u001b[0m\u001b[0;34m\u001b[0m\u001b[0;34m\u001b[0m\u001b[0m\n",
            "\u001b[0;32m<ipython-input-40-1abed6f17fe3>\u001b[0m in \u001b[0;36mformato\u001b[0;34m(self)\u001b[0m\n\u001b[1;32m     17\u001b[0m \u001b[0;34m\u001b[0m\u001b[0m\n\u001b[1;32m     18\u001b[0m   \u001b[0;32mdef\u001b[0m \u001b[0mformato\u001b[0m\u001b[0;34m(\u001b[0m \u001b[0mself\u001b[0m \u001b[0;34m)\u001b[0m\u001b[0;34m:\u001b[0m\u001b[0;34m\u001b[0m\u001b[0;34m\u001b[0m\u001b[0m\n\u001b[0;32m---> 19\u001b[0;31m         \u001b[0mformato\u001b[0m \u001b[0;34m=\u001b[0m \u001b[0mself\u001b[0m\u001b[0;34m.\u001b[0m\u001b[0mtablero\u001b[0m\u001b[0;34m.\u001b[0m\u001b[0mget_info\u001b[0m\u001b[0;34m(\u001b[0m\u001b[0;34m)\u001b[0m\u001b[0;34m\u001b[0m\u001b[0;34m\u001b[0m\u001b[0m\n\u001b[0m\u001b[1;32m     20\u001b[0m \u001b[0;34m\u001b[0m\u001b[0m\n\u001b[1;32m     21\u001b[0m         \u001b[0;32mfor\u001b[0m \u001b[0mi\u001b[0m \u001b[0;32min\u001b[0m \u001b[0mrange\u001b[0m\u001b[0;34m(\u001b[0m \u001b[0mlen\u001b[0m\u001b[0;34m(\u001b[0m\u001b[0mformato\u001b[0m\u001b[0;34m)\u001b[0m \u001b[0;34m)\u001b[0m\u001b[0;34m:\u001b[0m\u001b[0;34m\u001b[0m\u001b[0;34m\u001b[0m\u001b[0m\n",
            "\u001b[0;31mAttributeError\u001b[0m: 'Array2D' object has no attribute 'get_info'"
          ]
        }
      ]
    },
    {
      "cell_type": "code",
      "metadata": {
        "colab": {
          "base_uri": "https://localhost:8080/"
        },
        "id": "tMD8RZfLDTqW",
        "outputId": "19e22971-e847-4ed4-b3fa-714ce04c2762"
      },
      "source": [
        "from simple_chalk import chalk, green, red\n",
        "\n",
        "nombre = \"jose\"\n",
        "edad = 19\n",
        "print(nombre)\n",
        "print(edad)\n",
        "\n",
        "print(chalk.green(nombre))\n",
        "print(chalk.red.bgWhite(edad))"
      ],
      "execution_count": 42,
      "outputs": [
        {
          "output_type": "stream",
          "name": "stdout",
          "text": [
            "jose\n",
            "19\n",
            "\u001b[32mjose\u001b[0m\n",
            "\u001b[31;47m19\u001b[0m\n"
          ]
        }
      ]
    }
  ]
}