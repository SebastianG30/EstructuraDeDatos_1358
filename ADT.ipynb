{
  "nbformat": 4,
  "nbformat_minor": 0,
  "metadata": {
    "colab": {
      "name": "ADT.ipynb",
      "provenance": [],
      "authorship_tag": "ABX9TyNZlryEunP1pc64EKiJKsTK",
      "include_colab_link": true
    },
    "kernelspec": {
      "name": "python3",
      "display_name": "Python 3"
    },
    "language_info": {
      "name": "python"
    }
  },
  "cells": [
    {
      "cell_type": "markdown",
      "metadata": {
        "id": "view-in-github",
        "colab_type": "text"
      },
      "source": [
        "<a href=\"https://colab.research.google.com/github/SebastianG30/EstructuraDeDatos_1358/blob/main/ADT.ipynb\" target=\"_parent\"><img src=\"https://colab.research.google.com/assets/colab-badge.svg\" alt=\"Open In Colab\"/></a>"
      ]
    },
    {
      "cell_type": "code",
      "metadata": {
        "colab": {
          "base_uri": "https://localhost:8080/"
        },
        "id": "0wZhCoJZC6ke",
        "outputId": "dffaa0ff-4ec3-42c8-8d1f-145e86c032bb"
      },
      "source": [
        "!pip install simple_chalk"
      ],
      "execution_count": 71,
      "outputs": [
        {
          "output_type": "stream",
          "name": "stdout",
          "text": [
            "Collecting simple_chalk\n",
            "  Downloading simple_chalk-0.1.0.tar.gz (13 kB)\n",
            "Building wheels for collected packages: simple-chalk\n",
            "  Building wheel for simple-chalk (setup.py) ... \u001b[?25l\u001b[?25hdone\n",
            "  Created wheel for simple-chalk: filename=simple_chalk-0.1.0-py3-none-any.whl size=22163 sha256=5c825af78675cf989bcbf5352b26f00ee8901eecf6e4e2a7c94ea188f0dac2e6\n",
            "  Stored in directory: /root/.cache/pip/wheels/24/e2/84/d54838032016039eef79df1137b91defaa6db068d825dfcdcd\n",
            "Successfully built simple-chalk\n",
            "Installing collected packages: simple-chalk\n",
            "Successfully installed simple-chalk-0.1.0\n"
          ]
        }
      ]
    },
    {
      "cell_type": "code",
      "metadata": {
        "id": "rsPtLtUK9-Sw"
      },
      "source": [
        "class Array2D():\n",
        "  \n",
        "  def __init__(self, ren, col):\n",
        "    self.__columnas = col\n",
        "    self.__renglones = ren\n",
        "    self.__data = [[ 0 for i in range(col)]for i in range (ren)]\n",
        "\n",
        "  def to_string(self):\n",
        "    print(self.__data)\n",
        "    for i in range(self.__renglones):\n",
        "      print(self.__data[i])\n",
        "\n",
        "  def clear(self, dato):\n",
        "    for i in range (self.__renglones):\n",
        "      for x in range(self.__columnas):\n",
        "        self.__data[i][x] = dato\n",
        "\n",
        "  def get_row_size(self):\n",
        "    return self.__renglones\n",
        "\n",
        "  \n",
        "  def get_col_size(self):\n",
        "    return self.__columnas\n",
        "  \n",
        "  def set_item(self,ren,col,dato):\n",
        "    self.__data[ren][col] = dato\n",
        "\n",
        "  def get_item(self,ren,col):\n",
        "    return self.__data[ren][col]"
      ],
      "execution_count": 3,
      "outputs": []
    },
    {
      "cell_type": "code",
      "metadata": {
        "colab": {
          "base_uri": "https://localhost:8080/"
        },
        "id": "v9-o4ufs-H5U",
        "outputId": "ba78cba7-df33-48a2-e990-8c43deac55bc"
      },
      "source": [
        "tablero = Array2D(6,5)\n",
        "tablero.to_string()\n",
        "tablero.clear('M')\n",
        "print(\"----Población inicial----\")\n",
        "tablero.to_string()\n",
        "\n",
        "print(\"-----Una idea de como establecer la población inicial-----\")\n",
        "poblacion_inicial = [(2,3) , (3,1) , (3,2) , (3,3)]\n",
        "\n",
        "for par in poblacion_inicial:\n",
        "  tablero.set_item(par[0],par[1], 'v')\n",
        "\n",
        "tablero.to_string()\n",
        "\n",
        "print(tablero.get_col_size())\n",
        "print(tablero.get_row_size())\n",
        "\n",
        "celula = tablero.get_item(2,1)\n",
        "print(celula)\n",
        "\n",
        "celula = tablero.get_item(2,2)\n",
        "print(celula)\n",
        "\n",
        "# Esto no se debe de hacer, porque es dificil de darle mantenimiento"
      ],
      "execution_count": 4,
      "outputs": [
        {
          "output_type": "stream",
          "name": "stdout",
          "text": [
            "[[0, 0, 0, 0, 0], [0, 0, 0, 0, 0], [0, 0, 0, 0, 0], [0, 0, 0, 0, 0], [0, 0, 0, 0, 0], [0, 0, 0, 0, 0]]\n",
            "[0, 0, 0, 0, 0]\n",
            "[0, 0, 0, 0, 0]\n",
            "[0, 0, 0, 0, 0]\n",
            "[0, 0, 0, 0, 0]\n",
            "[0, 0, 0, 0, 0]\n",
            "[0, 0, 0, 0, 0]\n",
            "----Población inicial----\n",
            "[['M', 'M', 'M', 'M', 'M'], ['M', 'M', 'M', 'M', 'M'], ['M', 'M', 'M', 'M', 'M'], ['M', 'M', 'M', 'M', 'M'], ['M', 'M', 'M', 'M', 'M'], ['M', 'M', 'M', 'M', 'M']]\n",
            "['M', 'M', 'M', 'M', 'M']\n",
            "['M', 'M', 'M', 'M', 'M']\n",
            "['M', 'M', 'M', 'M', 'M']\n",
            "['M', 'M', 'M', 'M', 'M']\n",
            "['M', 'M', 'M', 'M', 'M']\n",
            "['M', 'M', 'M', 'M', 'M']\n",
            "-----Una idea de como establecer la población inicial-----\n",
            "[['M', 'M', 'M', 'M', 'M'], ['M', 'M', 'M', 'M', 'M'], ['M', 'M', 'M', 'v', 'M'], ['M', 'v', 'v', 'v', 'M'], ['M', 'M', 'M', 'M', 'M'], ['M', 'M', 'M', 'M', 'M']]\n",
            "['M', 'M', 'M', 'M', 'M']\n",
            "['M', 'M', 'M', 'M', 'M']\n",
            "['M', 'M', 'M', 'v', 'M']\n",
            "['M', 'v', 'v', 'v', 'M']\n",
            "['M', 'M', 'M', 'M', 'M']\n",
            "['M', 'M', 'M', 'M', 'M']\n",
            "5\n",
            "6\n",
            "M\n",
            "M\n"
          ]
        }
      ]
    },
    {
      "cell_type": "markdown",
      "metadata": {
        "id": "Y5arL2d7GyQk"
      },
      "source": [
        "##¿Como se debería programar el juego de la vida?\n",
        "\n",
        "## Programar un ADT especifico para empaquetar la logica del juego de la vida."
      ]
    },
    {
      "cell_type": "code",
      "metadata": {
        "id": "HQ2UIXInG1XE"
      },
      "source": [
        "\"\"\"\n",
        "En el constructor:\n",
        "  lista_pob_inicial es una lista de tuplas que contiene las cordenadas\n",
        "  ((ren,col))\n",
        "\n",
        "\"\"\"\n",
        "class JuegoDeLaVidaADT:\n",
        "  def __init__(self, rens, cols, lista_pob_inicial, generaciones):\n",
        "    self.tablero = Array2D(rens, cols) #Que ya conocemos\n",
        "    self.generaciones = generaciones\n",
        "    self.gen = 1\n",
        "    self.tablero.clear('M')\n",
        "    for par in lista_pob_inicial:\n",
        "      self.tablero.set_item(par[0], par[1], 'V')\n",
        "\n",
        "  def to_string(self):\n",
        "    print(f\"----GENERACIÓN---- {self.gen}\")\n",
        "    self.tablero.to_string()\n",
        "\n",
        "  \"\"\"\n",
        "  get_vecinos(r,c)\n",
        "  Va a calcular los vecinos de la celula en la pos.r,c\n",
        "  y regresara las coordenadas de los mismos\n",
        "  \n",
        "  get_vecinos(0,0) -> [(0,1),(1,0),(1,1)]\n",
        "  get_vecinos(2,1) -> [(1,0),(1,1),(1,2),(2,0),(2,2),(3,0),(3,1)(3,2)]\n",
        "\n",
        "  \"\"\"\n",
        "  \n",
        "  def get_vecinos (r,c):\n",
        "    vecinos = []\n",
        "    for ren in range(r-1,r+2,1):\n",
        "      for col in range(c-1,c+2,1):\n",
        "        if ren < 0 or ren >= self.tablero.get_row_size() or col < 0 or col >= self.tablero.get_col_size() or (ren==r and col==c):\n",
        "          pass\n",
        "        else:\n",
        "          vecinos.append((ren,col))\n",
        "    return vecinos\n",
        "\n",
        "  \"\"\"\n",
        "  get_vecinos_vivos(r,c)\n",
        "  \"\"\"\n",
        "\n",
        "  def get_vecinos_vivos(self,r,c):\n",
        "    vivos = 0\n",
        "    vecinos = self.get_vecinos(r,c)\n",
        "    for par in vecinos:\n",
        "      if self.tablero.get_item(par[0],par[1]) == 'V':\n",
        "        vivos += 1\n",
        "\n",
        "\n",
        "    return vivos\n",
        "\n",
        "  def aplicar_reglas():\n",
        "    "
      ],
      "execution_count": 69,
      "outputs": []
    },
    {
      "cell_type": "code",
      "metadata": {
        "colab": {
          "base_uri": "https://localhost:8080/",
          "height": 392
        },
        "id": "V_q_5khzMZjY",
        "outputId": "7386259f-5260-4e29-c24e-92fcb5144fa3"
      },
      "source": [
        "juego = JuegoDeLaVidaADT (6,5, [(2,2),(3,1),(3,2),(3,3)],5)\n",
        "juego.to_string()\n",
        "print(\"Vecinos de 0,0\")\n",
        "print(juego.get_vecinos(2,2))\n",
        "r = 0\n",
        "c = 0\n",
        "print(f\"Vecinos vivos de {r},{c} son {juego.get_vecinos_vivos(r,c)}\")\n"
      ],
      "execution_count": 70,
      "outputs": [
        {
          "output_type": "stream",
          "name": "stdout",
          "text": [
            "----GENERACIÓN---- 1\n",
            "[['M', 'M', 'M', 'M', 'M'], ['M', 'M', 'M', 'M', 'M'], ['M', 'M', 'V', 'M', 'M'], ['M', 'V', 'V', 'V', 'M'], ['M', 'M', 'M', 'M', 'M'], ['M', 'M', 'M', 'M', 'M']]\n",
            "['M', 'M', 'M', 'M', 'M']\n",
            "['M', 'M', 'M', 'M', 'M']\n",
            "['M', 'M', 'V', 'M', 'M']\n",
            "['M', 'V', 'V', 'V', 'M']\n",
            "['M', 'M', 'M', 'M', 'M']\n",
            "['M', 'M', 'M', 'M', 'M']\n",
            "Vecinos de 0,0\n"
          ]
        },
        {
          "output_type": "error",
          "ename": "TypeError",
          "evalue": "ignored",
          "traceback": [
            "\u001b[0;31m---------------------------------------------------------------------------\u001b[0m",
            "\u001b[0;31mTypeError\u001b[0m                                 Traceback (most recent call last)",
            "\u001b[0;32m<ipython-input-70-54ddbcedf1a5>\u001b[0m in \u001b[0;36m<module>\u001b[0;34m()\u001b[0m\n\u001b[1;32m      2\u001b[0m \u001b[0mjuego\u001b[0m\u001b[0;34m.\u001b[0m\u001b[0mto_string\u001b[0m\u001b[0;34m(\u001b[0m\u001b[0;34m)\u001b[0m\u001b[0;34m\u001b[0m\u001b[0;34m\u001b[0m\u001b[0m\n\u001b[1;32m      3\u001b[0m \u001b[0mprint\u001b[0m\u001b[0;34m(\u001b[0m\u001b[0;34m\"Vecinos de 0,0\"\u001b[0m\u001b[0;34m)\u001b[0m\u001b[0;34m\u001b[0m\u001b[0;34m\u001b[0m\u001b[0m\n\u001b[0;32m----> 4\u001b[0;31m \u001b[0mprint\u001b[0m\u001b[0;34m(\u001b[0m\u001b[0mjuego\u001b[0m\u001b[0;34m.\u001b[0m\u001b[0mget_vecinos\u001b[0m\u001b[0;34m(\u001b[0m\u001b[0;36m2\u001b[0m\u001b[0;34m,\u001b[0m\u001b[0;36m2\u001b[0m\u001b[0;34m)\u001b[0m\u001b[0;34m)\u001b[0m\u001b[0;34m\u001b[0m\u001b[0;34m\u001b[0m\u001b[0m\n\u001b[0m\u001b[1;32m      5\u001b[0m \u001b[0mr\u001b[0m \u001b[0;34m=\u001b[0m \u001b[0;36m0\u001b[0m\u001b[0;34m\u001b[0m\u001b[0;34m\u001b[0m\u001b[0m\n\u001b[1;32m      6\u001b[0m \u001b[0mc\u001b[0m \u001b[0;34m=\u001b[0m \u001b[0;36m0\u001b[0m\u001b[0;34m\u001b[0m\u001b[0;34m\u001b[0m\u001b[0m\n",
            "\u001b[0;31mTypeError\u001b[0m: get_vecinos() takes 2 positional arguments but 3 were given"
          ]
        }
      ]
    },
    {
      "cell_type": "code",
      "metadata": {
        "colab": {
          "base_uri": "https://localhost:8080/"
        },
        "id": "tMD8RZfLDTqW",
        "outputId": "5a3f6dcb-d4a0-49df-8cf7-36e0b6f329d3"
      },
      "source": [
        "from simple_chalk import chalk, green, red\n",
        "\n",
        "nombre = \"jose\"\n",
        "edad = 19\n",
        "print(nombre)\n",
        "print(edad)\n",
        "\n",
        "print(chalk.green(nombre))\n",
        "print(chalk.red.bgWhite(edad))"
      ],
      "execution_count": 76,
      "outputs": [
        {
          "output_type": "stream",
          "name": "stdout",
          "text": [
            "jose\n",
            "19\n",
            "\u001b[32mjose\u001b[0m\n",
            "\u001b[31;47m19\u001b[0m\n"
          ]
        }
      ]
    }
  ]
}