{
  "nbformat": 4,
  "nbformat_minor": 0,
  "metadata": {
    "colab": {
      "name": "ADT Array.ipynb",
      "provenance": [],
      "authorship_tag": "ABX9TyPNMVwphE3NwydaTcJwALyZ",
      "include_colab_link": true
    },
    "kernelspec": {
      "name": "python3",
      "display_name": "Python 3"
    },
    "language_info": {
      "name": "python"
    }
  },
  "cells": [
    {
      "cell_type": "markdown",
      "metadata": {
        "id": "view-in-github",
        "colab_type": "text"
      },
      "source": [
        "<a href=\"https://colab.research.google.com/github/SebastianG30/EstructuraDeDatos_1358/blob/main/ADT_Array.ipynb\" target=\"_parent\"><img src=\"https://colab.research.google.com/assets/colab-badge.svg\" alt=\"Open In Colab\"/></a>"
      ]
    },
    {
      "cell_type": "code",
      "metadata": {
        "id": "Ch_6B0IzNN8r"
      },
      "source": [
        "\"\"\"\n",
        "ADT Arrasy.\n",
        "\n",
        "\"\"\"\n",
        "\n",
        "\n",
        "class Array():\n",
        "\n",
        "  def __init__(self , tamano):\n",
        "    self.__tamano = tamano\n",
        "    self.__data = [0 for x in range(self.__tamano)]          # Generador\n",
        "\n",
        "  def get_item( self , index ):\n",
        "    return self.__data[index]\n",
        "\n",
        "  def to_string( self ):\n",
        "    print(self.__data)\n",
        "  \n",
        "  def set_item( self, dato, index ):\n",
        "    return self.__data[index]\n",
        "\n",
        "  def to_string( self ):\n",
        "    print(self.__data)\n",
        "\n",
        "  def get_length(self, index):\n",
        "    return self.__data\n",
        "\n",
        "  def to_string(self):\n",
        "    print(self.__data)\n",
        "    "
      ],
      "execution_count": 149,
      "outputs": []
    },
    {
      "cell_type": "code",
      "metadata": {
        "colab": {
          "base_uri": "https://localhost:8080/"
        },
        "id": "5C8PPh3yMFjI",
        "outputId": "86997ce2-a928-49bb-90fe-7a2015630edb"
      },
      "source": [
        "ejemplo = Array(5)\n",
        "ejemplo.to_string()\n",
        "ejemplo.get_item(3)\n",
        "#ejemplo.set_item(5)\n",
        "#ejemplo.get_length()\n",
        "\n",
        "#Se intento pero no se pudo  :(\n",
        "    "
      ],
      "execution_count": 164,
      "outputs": [
        {
          "output_type": "stream",
          "name": "stdout",
          "text": [
            "[0, 0, 0, 0, 0]\n"
          ]
        },
        {
          "output_type": "execute_result",
          "data": {
            "text/plain": [
              "0"
            ]
          },
          "metadata": {},
          "execution_count": 164
        }
      ]
    }
  ]
}