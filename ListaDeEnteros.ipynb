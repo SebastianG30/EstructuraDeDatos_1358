{
  "nbformat": 4,
  "nbformat_minor": 0,
  "metadata": {
    "colab": {
      "name": "ListaDeEnteros.ipynb",
      "provenance": [],
      "authorship_tag": "ABX9TyPCC4m7cr2BVf8oMBlLLbTy",
      "include_colab_link": true
    },
    "kernelspec": {
      "name": "python3",
      "display_name": "Python 3"
    },
    "language_info": {
      "name": "python"
    }
  },
  "cells": [
    {
      "cell_type": "markdown",
      "metadata": {
        "id": "view-in-github",
        "colab_type": "text"
      },
      "source": [
        "<a href=\"https://colab.research.google.com/github/SebastianG30/EstructuraDeDatos_1358/blob/main/ListaDeEnteros.ipynb\" target=\"_parent\"><img src=\"https://colab.research.google.com/assets/colab-badge.svg\" alt=\"Open In Colab\"/></a>"
      ]
    },
    {
      "cell_type": "code",
      "metadata": {
        "colab": {
          "base_uri": "https://localhost:8080/"
        },
        "id": "ruTYy6SzBlky",
        "outputId": "b940e29b-8a10-41ed-f90d-458b95470b46"
      },
      "source": [
        "import time\n",
        "import os\n",
        "\n",
        "numero = 10\n",
        "\n",
        "for i in range(numero):\n",
        "\n",
        "  print(numero)\n",
        "  time.sleep(1)\n",
        "  os.system(\"cls\")\n",
        "  numero -= 1\n",
        "\n",
        "  if (numero == 0):\n",
        "    print(numero)\n",
        "    print(\"BOOOOOMMMM!!!!\")\n"
      ],
      "execution_count": 28,
      "outputs": [
        {
          "name": "stdout",
          "output_type": "stream",
          "text": [
            "10\n",
            "9\n",
            "8\n",
            "7\n",
            "6\n",
            "5\n",
            "4\n",
            "3\n",
            "2\n",
            "1\n",
            "0\n",
            "BOOOOOMMMM!!!!\n",
            "Presione Enter para finalizar\n"
          ]
        }
      ]
    }
  ]
}