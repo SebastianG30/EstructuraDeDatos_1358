{
  "nbformat": 4,
  "nbformat_minor": 0,
  "metadata": {
    "colab": {
      "name": "RecusividadSuma.ipynb",
      "provenance": [],
      "authorship_tag": "ABX9TyPjTBeDnOniplJsMHnQdL19",
      "include_colab_link": true
    },
    "kernelspec": {
      "name": "python3",
      "display_name": "Python 3"
    },
    "language_info": {
      "name": "python"
    }
  },
  "cells": [
    {
      "cell_type": "markdown",
      "metadata": {
        "id": "view-in-github",
        "colab_type": "text"
      },
      "source": [
        "<a href=\"https://colab.research.google.com/github/SebastianG30/EstructuraDeDatos_1358/blob/main/RecusividadSuma.ipynb\" target=\"_parent\"><img src=\"https://colab.research.google.com/assets/colab-badge.svg\" alt=\"Open In Colab\"/></a>"
      ]
    },
    {
      "cell_type": "code",
      "metadata": {
        "colab": {
          "base_uri": "https://localhost:8080/"
        },
        "id": "VwcAv1puJWoM",
        "outputId": "74f59605-f374-4904-8426-a3e002f8efaf"
      },
      "source": [
        "\n",
        "def sumarLista(numeros):\n",
        "  if len(numeros) == 0:\n",
        "    return 0\n",
        "\n",
        "  else:\n",
        "    \n",
        "    return numeros[0] + sumarLista(numeros[1:])\n",
        "\n",
        "valores = [1, 2, 3, 4, 5, 6]\n",
        "resultado = sumarLista( valores )\n",
        "\n",
        "print(f\"La suma es igual a:\",resultado)"
      ],
      "execution_count": 43,
      "outputs": [
        {
          "output_type": "stream",
          "name": "stdout",
          "text": [
            "La suma es igual a: 21\n"
          ]
        }
      ]
    }
  ]
}