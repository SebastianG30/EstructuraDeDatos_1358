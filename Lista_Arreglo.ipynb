{
  "nbformat": 4,
  "nbformat_minor": 0,
  "metadata": {
    "colab": {
      "name": "Lista_Arreglo.ipynb",
      "provenance": [],
      "authorship_tag": "ABX9TyN2DEqPQk7nmchmiDtUV4C2",
      "include_colab_link": true
    },
    "kernelspec": {
      "name": "python3",
      "display_name": "Python 3"
    },
    "language_info": {
      "name": "python"
    }
  },
  "cells": [
    {
      "cell_type": "markdown",
      "metadata": {
        "id": "view-in-github",
        "colab_type": "text"
      },
      "source": [
        "<a href=\"https://colab.research.google.com/github/SebastianG30/EstructuraDeDatos_1358/blob/main/Lista_Arreglo.ipynb\" target=\"_parent\"><img src=\"https://colab.research.google.com/assets/colab-badge.svg\" alt=\"Open In Colab\"/></a>"
      ]
    },
    {
      "cell_type": "code",
      "metadata": {
        "colab": {
          "base_uri": "https://localhost:8080/"
        },
        "id": "0-OMwO5gQO7s",
        "outputId": "05eeb191-6c56-4945-c548-4dc7efe349ad"
      },
      "source": [
        "\n",
        "lista = [1, 2, 3, 4, 5, 6, 7, 8]\n",
        "del lista[2]\n",
        "print(lista)\n"
      ],
      "execution_count": 22,
      "outputs": [
        {
          "output_type": "stream",
          "name": "stdout",
          "text": [
            "[1, 2, 4, 5, 6, 7, 8]\n"
          ]
        }
      ]
    }
  ]
}