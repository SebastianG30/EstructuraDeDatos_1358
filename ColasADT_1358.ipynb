{
  "nbformat": 4,
  "nbformat_minor": 0,
  "metadata": {
    "colab": {
      "name": "ColasADT_1358.ipynb",
      "provenance": [],
      "authorship_tag": "ABX9TyOa3tVHr/qjYJKK5vgsgjnZ",
      "include_colab_link": true
    },
    "kernelspec": {
      "name": "python3",
      "display_name": "Python 3"
    },
    "language_info": {
      "name": "python"
    }
  },
  "cells": [
    {
      "cell_type": "markdown",
      "metadata": {
        "id": "view-in-github",
        "colab_type": "text"
      },
      "source": [
        "<a href=\"https://colab.research.google.com/github/SebastianG30/EstructuraDeDatos_1358/blob/main/ColasADT_1358.ipynb\" target=\"_parent\"><img src=\"https://colab.research.google.com/assets/colab-badge.svg\" alt=\"Open In Colab\"/></a>"
      ]
    },
    {
      "cell_type": "code",
      "metadata": {
        "id": "LukBrtocsqti"
      },
      "source": [
        "class QueueADT:\n",
        "  def __init__(self):\n",
        "    self.__data = []\n",
        "\n",
        "  def is_empty(self):\n",
        "    return len (self.__data) == 0\n",
        "  \n",
        "  def length (self):\n",
        "    return len(self.__data)\n",
        "\n",
        "  def enqueue(self,elem):\n",
        "    self.__data.append(elem)\n",
        "\n",
        "  def dequeue(self):\n",
        "    if not self.is_empty():\n",
        "      return self.__data.pop(0)\n",
        "\n",
        "  def to_string(self):\n",
        "    for elem in self.__data:\n",
        "      print(f\"| {elem} | <--\", end=\" \")\n",
        "    print(\"\")"
      ],
      "execution_count": 1,
      "outputs": []
    },
    {
      "cell_type": "code",
      "metadata": {
        "colab": {
          "base_uri": "https://localhost:8080/"
        },
        "id": "VlGyg772vrYK",
        "outputId": "3d490498-a56f-4945-ec4d-c1de017d2ec6"
      },
      "source": [
        "cola = QueueADT()\n",
        "print(\"Esta vacio\", cola.is_empty())\n",
        "print(\"# de elemtos\", cola.length())\n",
        "cola.enqueue(10)\n",
        "cola.to_string()\n",
        "print(\".-.-.-.-.-.-.-\")\n",
        "cola.enqueue(20)\n",
        "cola.enqueue(30)\n",
        "cola.enqueue(40)\n",
        "cola.to_string()\n",
        "siguiente = cola.dequeue()\n",
        "print(\"Atendiendo a:\",siguiente)\n",
        "cola.to_string()"
      ],
      "execution_count": 2,
      "outputs": [
        {
          "output_type": "stream",
          "name": "stdout",
          "text": [
            "Esta vacio True\n",
            "# de elemtos 0\n",
            "| 10 | <-- \n",
            ".-.-.-.-.-.-.-\n",
            "| 10 | <-- | 20 | <-- | 30 | <-- | 40 | <-- \n",
            "Atendiendo a: 10\n",
            "| 20 | <-- | 30 | <-- | 40 | <-- \n"
          ]
        }
      ]
    },
    {
      "cell_type": "code",
      "metadata": {
        "id": "M1opl2A5-aj6"
      },
      "source": [
        "class ColaPrioridadAcotada:\n",
        "  def __init__(self, niveles):\n",
        "    self.__data = [QueueADT() for x in range(niveles)]\n",
        "    self.length = 0 #Numero de elementos colados\n",
        "\n",
        "  def is_empty(self):\n",
        "    return self.length == 0\n",
        "\n",
        "  def length(self):\n",
        "    return self.length\n",
        "\n",
        "  def enqueue(self, prioridad, elem):\n",
        "    if prioridad >= 0 and prioridad < len(self.__data):\n",
        "      self.__data[prioridad].enqueue(elem)\n",
        "      self.length += 1\n",
        "\n",
        "  def to_string(self):\n",
        "    for p in range(len(self.__data)):\n",
        "      print(f\"Prioridad {p} -->\", end =\"\")\n",
        "      self.__data[p].to_string()\n",
        "\n",
        "  def dequeue(self):\n",
        "    for nivel in self.__data:\n",
        "      if not nivel.is_empty():\n",
        "        self.length -= 1\n",
        "        return nivel.dequeue()"
      ],
      "execution_count": 3,
      "outputs": []
    },
    {
      "cell_type": "code",
      "metadata": {
        "colab": {
          "base_uri": "https://localhost:8080/"
        },
        "id": "jLC-FXuGCne2",
        "outputId": "1ed67772-f2e6-42df-efc6-24fcc5c45d95"
      },
      "source": [
        "cpa = ColaPrioridadAcotada(7)\n",
        "cpa.enqueue(4,\"A\")\n",
        "cpa.enqueue(2,\"Z\")\n",
        "cpa.enqueue(4,\"N\")\n",
        "cpa.enqueue(1,\"P\")\n",
        "cpa.to_string()\n",
        "print(\".-.-.-.-.-.-.-.-.-.-.-\")\n",
        "sig = cpa.dequeue()\n",
        "cpa.to_string()"
      ],
      "execution_count": 4,
      "outputs": [
        {
          "output_type": "stream",
          "name": "stdout",
          "text": [
            "Prioridad 0 -->\n",
            "Prioridad 1 -->| P | <-- \n",
            "Prioridad 2 -->| Z | <-- \n",
            "Prioridad 3 -->\n",
            "Prioridad 4 -->| A | <-- | N | <-- \n",
            "Prioridad 5 -->\n",
            "Prioridad 6 -->\n",
            ".-.-.-.-.-.-.-.-.-.-.-\n",
            "Prioridad 0 -->\n",
            "Prioridad 1 -->\n",
            "Prioridad 2 -->| Z | <-- \n",
            "Prioridad 3 -->\n",
            "Prioridad 4 -->| A | <-- | N | <-- \n",
            "Prioridad 5 -->\n",
            "Prioridad 6 -->\n"
          ]
        }
      ]
    },
    {
      "cell_type": "code",
      "metadata": {
        "id": "bo4bMElPFKx5"
      },
      "source": [
        "class ColaDePrioridad:\n",
        "  def _init_( self ):\n",
        "    self.__data = []\n",
        "    self.__length = 0\n",
        "\n",
        "  def is_empty( self ):\n",
        "    return self.length == 0\n",
        "\n",
        "  def length( self ):\n",
        "    return self.length\n",
        "\n",
        "  #Utilizar la función insert de el tipo de dato de prioridad\n",
        "  #Para mantener ordenado los niveles de prioridad\n",
        "  #TAREA MORAL\n",
        "\n",
        "  def enqueue( self , prioridad , elem ):\n",
        "    existe = False\n",
        "    indice = 0\n",
        "\n",
        "    for index in range( len(self.__data ) ):\n",
        "      if self.__data[index][\"p\"] == prioridad:\n",
        "        existe = True\n",
        "        indice = index\n",
        "        break\n",
        "\n",
        "    if existe:\n",
        "      self.__data[indice][\"cola\"].enqueue(elem)\n",
        "    else:\n",
        "      self.__data.append( {\"p\":prioridad , \"cola\": QueueADT() } )\n",
        "      self.__data[-1][\"cola\"].enqueue(elem)\n",
        "\n",
        "  def to_string( self ):\n",
        "    for level in self.__data:\n",
        "      print(level[\"p\"], end=\" <--\")\n",
        "      level[\"cola\"].to_string()"
      ],
      "execution_count": 70,
      "outputs": []
    },
    {
      "cell_type": "code",
      "metadata": {
        "id": "Zr0hTcRvJZHc",
        "colab": {
          "base_uri": "https://localhost:8080/",
          "height": 232
        },
        "outputId": "ccfa029a-afe2-42e4-f643-109c30f42933"
      },
      "source": [
        "cp = ColaDePrioridad\n",
        "cp.enqueue(2,\"A\")\n",
        "cp.enqueue(4,\"Z\")\n",
        "cp.enqueue(1,\"R\")\n",
        "cp.enqueue(2,\"B\")\n",
        "cp.enqueue(4,\"Y\")\n",
        "cp.to_string()"
      ],
      "execution_count": 71,
      "outputs": [
        {
          "output_type": "error",
          "ename": "TypeError",
          "evalue": "ignored",
          "traceback": [
            "\u001b[0;31m---------------------------------------------------------------------------\u001b[0m",
            "\u001b[0;31mTypeError\u001b[0m                                 Traceback (most recent call last)",
            "\u001b[0;32m<ipython-input-71-8a8aa1325a25>\u001b[0m in \u001b[0;36m<module>\u001b[0;34m()\u001b[0m\n\u001b[1;32m      1\u001b[0m \u001b[0mcp\u001b[0m \u001b[0;34m=\u001b[0m \u001b[0mColaDePrioridad\u001b[0m\u001b[0;34m\u001b[0m\u001b[0;34m\u001b[0m\u001b[0m\n\u001b[0;32m----> 2\u001b[0;31m \u001b[0mcp\u001b[0m\u001b[0;34m.\u001b[0m\u001b[0menqueue\u001b[0m\u001b[0;34m(\u001b[0m\u001b[0;36m2\u001b[0m\u001b[0;34m,\u001b[0m\u001b[0;34m\"A\"\u001b[0m\u001b[0;34m)\u001b[0m\u001b[0;34m\u001b[0m\u001b[0;34m\u001b[0m\u001b[0m\n\u001b[0m\u001b[1;32m      3\u001b[0m \u001b[0mcp\u001b[0m\u001b[0;34m.\u001b[0m\u001b[0menqueue\u001b[0m\u001b[0;34m(\u001b[0m\u001b[0;36m4\u001b[0m\u001b[0;34m,\u001b[0m\u001b[0;34m\"Z\"\u001b[0m\u001b[0;34m)\u001b[0m\u001b[0;34m\u001b[0m\u001b[0;34m\u001b[0m\u001b[0m\n\u001b[1;32m      4\u001b[0m \u001b[0mcp\u001b[0m\u001b[0;34m.\u001b[0m\u001b[0menqueue\u001b[0m\u001b[0;34m(\u001b[0m\u001b[0;36m1\u001b[0m\u001b[0;34m,\u001b[0m\u001b[0;34m\"R\"\u001b[0m\u001b[0;34m)\u001b[0m\u001b[0;34m\u001b[0m\u001b[0;34m\u001b[0m\u001b[0m\n\u001b[1;32m      5\u001b[0m \u001b[0mcp\u001b[0m\u001b[0;34m.\u001b[0m\u001b[0menqueue\u001b[0m\u001b[0;34m(\u001b[0m\u001b[0;36m2\u001b[0m\u001b[0;34m,\u001b[0m\u001b[0;34m\"B\"\u001b[0m\u001b[0;34m)\u001b[0m\u001b[0;34m\u001b[0m\u001b[0;34m\u001b[0m\u001b[0m\n",
            "\u001b[0;31mTypeError\u001b[0m: enqueue() missing 1 required positional argument: 'elem'"
          ]
        }
      ]
    }
  ]
}