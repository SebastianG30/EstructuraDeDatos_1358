{
  "nbformat": 4,
  "nbformat_minor": 0,
  "metadata": {
    "colab": {
      "name": "Arboles_1358.ipynb",
      "provenance": [],
      "authorship_tag": "ABX9TyNL9NI3AJbZcomQmhGfZRmG",
      "include_colab_link": true
    },
    "kernelspec": {
      "name": "python3",
      "display_name": "Python 3"
    },
    "language_info": {
      "name": "python"
    }
  },
  "cells": [
    {
      "cell_type": "markdown",
      "metadata": {
        "id": "view-in-github",
        "colab_type": "text"
      },
      "source": [
        "<a href=\"https://colab.research.google.com/github/SebastianG30/EstructuraDeDatos_1358/blob/main/Arboles_1358.ipynb\" target=\"_parent\"><img src=\"https://colab.research.google.com/assets/colab-badge.svg\" alt=\"Open In Colab\"/></a>"
      ]
    },
    {
      "cell_type": "code",
      "metadata": {
        "id": "UZAHVkLitBSk"
      },
      "source": [
        "class BinaryNode:\n",
        "  def __init__(self, values, left=None, rigth=None):\n",
        "    self.data = values\n",
        "    self.left = left\n",
        "    self.rigth = rigth"
      ],
      "execution_count": 8,
      "outputs": []
    },
    {
      "cell_type": "code",
      "metadata": {
        "id": "OJrcjnzyujty"
      },
      "source": [
        "class TernaryNode:\n",
        "  def __init__(self, values, left=None, center=None, rigth=None):\n",
        "    self.data = values\n",
        "    self.left= left\n",
        "    self.center = center\n",
        "    self.rigth = rigth"
      ],
      "execution_count": 9,
      "outputs": []
    },
    {
      "cell_type": "code",
      "metadata": {
        "colab": {
          "base_uri": "https://localhost:8080/"
        },
        "id": "ZdC7MgKMvHNY",
        "outputId": "c8b9bc4e-3c08-4306-93f4-96b856740176"
      },
      "source": [
        "root = BinaryNode(\"R\", BinaryNode(\"C\"), BinaryNode(\"H\") )\n",
        "print(root.left.data)\n"
      ],
      "execution_count": 10,
      "outputs": [
        {
          "output_type": "stream",
          "name": "stdout",
          "text": [
            "C\n"
          ]
        }
      ]
    },
    {
      "cell_type": "code",
      "metadata": {
        "colab": {
          "base_uri": "https://localhost:8080/"
        },
        "id": "ap3zs-sHwJ7l",
        "outputId": "541526bb-ec8a-4451-b74d-d94d2b88a28c"
      },
      "source": [
        "root = TernaryNode(4,TernaryNode(3,TernaryNode(5,left=TernaryNode(2)),TernaryNode(5),TernaryNode(2)),None, TernaryNode(5))\n",
        "print(root.left.left.left.data)\n",
        "print(\".-.-.-.-.-.-.-.-.-.-.-.\")\n",
        "aux = root\n",
        "while aux.left != None:\n",
        "  aux = aux.left\n",
        "print(aux.data)\n",
        "print(\".-.-.-.-.-.-.-.-.-.-.-.-\")\n",
        "print(root.left.rigth.data)"
      ],
      "execution_count": 18,
      "outputs": [
        {
          "output_type": "stream",
          "name": "stdout",
          "text": [
            "2\n",
            ".-.-.-.-.-.-.-.-.-.-.-.\n",
            "2\n",
            ".-.-.-.-.-.-.-.-.-.-.-.-\n",
            "2\n"
          ]
        }
      ]
    },
    {
      "cell_type": "code",
      "metadata": {
        "colab": {
          "base_uri": "https://localhost:8080/"
        },
        "id": "XAhGu44F5Ew1",
        "outputId": "93823559-0390-4536-d928-c32b0b9bf938"
      },
      "source": [
        "root = BinaryNode(\"Santi\",None,BinaryNode(\"Jesus\",BinaryNode(\"Pedro\",None,BinaryNode(\"PedroJr\"))))\n",
        "print(root.rigth.left.rigth.data)"
      ],
      "execution_count": 20,
      "outputs": [
        {
          "output_type": "stream",
          "name": "stdout",
          "text": [
            "PedroJr\n"
          ]
        }
      ]
    }
  ]
}