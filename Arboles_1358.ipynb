{
  "nbformat": 4,
  "nbformat_minor": 0,
  "metadata": {
    "colab": {
      "name": "Arboles_1358.ipynb",
      "provenance": [],
      "authorship_tag": "ABX9TyOJX5lOOQmjChVHSYs0IaWq",
      "include_colab_link": true
    },
    "kernelspec": {
      "name": "python3",
      "display_name": "Python 3"
    },
    "language_info": {
      "name": "python"
    }
  },
  "cells": [
    {
      "cell_type": "markdown",
      "metadata": {
        "id": "view-in-github",
        "colab_type": "text"
      },
      "source": [
        "<a href=\"https://colab.research.google.com/github/SebastianG30/EstructuraDeDatos_1358/blob/main/Arboles_1358.ipynb\" target=\"_parent\"><img src=\"https://colab.research.google.com/assets/colab-badge.svg\" alt=\"Open In Colab\"/></a>"
      ]
    },
    {
      "cell_type": "code",
      "metadata": {
        "id": "UZAHVkLitBSk"
      },
      "source": [
        "class BinaryNode:\n",
        "  def __init__(self, values, left=None, rigth=None):\n",
        "    self.data = values\n",
        "    self.left = left\n",
        "    self.rigth = rigth"
      ],
      "execution_count": null,
      "outputs": []
    },
    {
      "cell_type": "code",
      "metadata": {
        "id": "OJrcjnzyujty"
      },
      "source": [
        "class TernaryNode:\n",
        "  def __init__(self, values, left=None, center=None, rigth=None):\n",
        "    self.data = values\n",
        "    self.left= left\n",
        "    self.center = center\n",
        "    self.rigth = rigth"
      ],
      "execution_count": null,
      "outputs": []
    },
    {
      "cell_type": "code",
      "metadata": {
        "colab": {
          "base_uri": "https://localhost:8080/"
        },
        "id": "ZdC7MgKMvHNY",
        "outputId": "041c9df1-b1d0-4051-aabd-fdf70e26ca2b"
      },
      "source": [
        "root = BinaryNode(\"R\", BinaryNode(\"C\"), BinaryNode(\"H\") )\n",
        "print(root.left.data)\n"
      ],
      "execution_count": null,
      "outputs": [
        {
          "output_type": "stream",
          "name": "stdout",
          "text": [
            "C\n"
          ]
        }
      ]
    },
    {
      "cell_type": "code",
      "metadata": {
        "colab": {
          "base_uri": "https://localhost:8080/"
        },
        "id": "ap3zs-sHwJ7l",
        "outputId": "53b6e451-e91b-45e7-f37c-9310b03df0ca"
      },
      "source": [
        "root = TernaryNode(4,TernaryNode(3,TernaryNode(5,left=TernaryNode(2)),TernaryNode(5),TernaryNode(2)),None, TernaryNode(5))\n",
        "print(root.left.left.left.data)\n",
        "print(\".-.-.-.-.-.-.-.-.-.-.-.\")\n",
        "aux = root\n",
        "while aux.left != None:\n",
        "  aux = aux.left\n",
        "print(aux.data)\n",
        "print(\".-.-.-.-.-.-.-.-.-.-.-.-\")\n",
        "print(root.left.rigth.data)"
      ],
      "execution_count": null,
      "outputs": [
        {
          "output_type": "stream",
          "name": "stdout",
          "text": [
            "2\n",
            ".-.-.-.-.-.-.-.-.-.-.-.\n",
            "2\n",
            ".-.-.-.-.-.-.-.-.-.-.-.-\n",
            "2\n"
          ]
        }
      ]
    },
    {
      "cell_type": "code",
      "metadata": {
        "colab": {
          "base_uri": "https://localhost:8080/"
        },
        "id": "XAhGu44F5Ew1",
        "outputId": "3bdb9a44-d826-47b9-dab5-2dcb48e8ca2a"
      },
      "source": [
        "root = BinaryNode(\"Santi\",None,BinaryNode(\"Jesus\",BinaryNode(\"Pedro\",None,BinaryNode(\"PedroJr\"))))\n",
        "print(root.rigth.left.rigth.data)"
      ],
      "execution_count": null,
      "outputs": [
        {
          "output_type": "stream",
          "name": "stdout",
          "text": [
            "PedroJr\n"
          ]
        }
      ]
    },
    {
      "cell_type": "code",
      "metadata": {
        "id": "OUjFcn54c-n6"
      },
      "source": [
        "class BinaryNode:\n",
        "  def __init__(self, value, left=None, rigth=None, principal=None):\n",
        "    self.data = value\n",
        "    self.principal = principal\n",
        "    self.left = left\n",
        "    self.rigth = rigth\n",
        "\n",
        "class BinarySerachTree:\n",
        "  def __init__(self):\n",
        "    self.root = None\n",
        "    self.contador = 0\n",
        "\n",
        "  def insert(self, value):\n",
        "    if self.root == None:\n",
        "      self.root = BinaryNode(value)\n",
        "    else:\n",
        "      self.__insert_nodo(self.root, value, None)\n",
        "    \n",
        "  def __insert_nodo(self, nodo, value, principal):\n",
        "    if nodo.data == value:\n",
        "      pass\n",
        "    elif value < nodo.data:\n",
        "      if nodo.left == None:\n",
        "        nodo.left = BinaryNode(value, principal=nodo)\n",
        "      else:\n",
        "        self.__insert_nodo(nodo.left, value, nodo)\n",
        "    else:\n",
        "      if nodo.rigth == None:\n",
        "        nodo.rigth = BinaryNode(value, principal=nodo)\n",
        "      else:\n",
        "        self.__insert_nodo(nodo.rigth, value, nodo)\n",
        "\n",
        "  def transversal(self, formato = \"posorden\"):\n",
        "    if formato == \"posorden\":\n",
        "      print()\n",
        "      self.recorrido_pos(self.root)\n",
        "    elif formato == \"preorden\":\n",
        "      self.recorrido_pre(self.root)\n",
        "    else:\n",
        "      self.recorrido_in(self.root)\n",
        "    print()\n",
        "\n",
        "  def recorrido_pos(self, nodo):\n",
        "    if nodo != None:\n",
        "      self.recorrido_pos(nodo.left)\n",
        "      self.recorrido_pos(nodo.rigth)\n",
        "      print(str(nodo.data), end=\" , \")\n",
        "  \n",
        "  def recorrido_pre(self, nodo):\n",
        "    if nodo != None:\n",
        "      print(str(nodo.data), end=\" , \")\n",
        "      self.recorrido_pre(nodo.left)\n",
        "      self.recorrido_pre(nodo.rigth)\n",
        "  \n",
        "  def recorrido_in(self, nodo):\n",
        "    if nodo != None:\n",
        "      print(str(nodo.data), end=\" , \")\n",
        "      self.recorrido_in(nodo.left)\n",
        "      self.recorrido_in(nodo.rigth)\n",
        "\n",
        "  def search(self, value):\n",
        "    if self.root == None:\n",
        "      print(\"El árbol está vació\")\n",
        "      return None\n",
        "    else:\n",
        "      self.__search(self.root, value)\n",
        "  \n",
        "  def __search(self, nodo, value):\n",
        "    if nodo == None:\n",
        "      print(\"No se encontro nada, no hay, no existe XD\")\n",
        "      return None\n",
        "    elif nodo.data == value:\n",
        "      print(\"Encontrado\")\n",
        "      return nodo\n",
        "    elif value < nodo.data:\n",
        "      return self.__search(nodo.left, value)\n",
        "    else:\n",
        "      return self.__search(nodo.rigth, value)\n",
        "\n",
        "  \n",
        "  def remove(self, value):\n",
        "    if self.root == None:\n",
        "      print(\"No se encontro nada, no hay, no existe XD\")\n",
        "      return\n",
        "    else:\n",
        "      nodo = self.search(value)\n",
        "      if nodo != None:\n",
        "        if nodo.left == None and nodo.right == None:\n",
        "          principal = nodo.principal\n",
        "          if nodo.data < principal.data:\n",
        "            principal.left = None\n",
        "          else:\n",
        "            principal.right = None\n",
        "            print(\"Se ha eliminado\")\n",
        "        elif nodo.left != None and nodo.right != None:\n",
        "          self.contador = 0\n",
        "          menor = self.__minimo(nodo.right)\n",
        "          nodo.data = menor.data\n",
        "          \n",
        "          if self.contador == 0:\n",
        "            nodo.right = None\n",
        "          else:\n",
        "            pMinimo = menor.principal\n",
        "            pMinimo.left = None\n",
        "            print(\"Se ha eliminado\")\n",
        "\n",
        "        elif nodo.left != None or nodo.right != None:\n",
        "          principal = nodo.principal\n",
        "          if nodo.data < padre.data:\n",
        "            if nodo.left != None:\n",
        "              aux = nodo.left\n",
        "              principal.left = aux\n",
        "              aux.principal = principal\n",
        "\n",
        "            elif nodo.right != None:\n",
        "              aux = nodo.right\n",
        "              principal.left = aux\n",
        "              aux.principal = principal\n",
        "\n",
        "          else:\n",
        "            if nodo.left != None:\n",
        "              aux = nodo.left\n",
        "              principal.right = aux\n",
        "              aux.principal = principal\n",
        "\n",
        "            elif nodo.right != None:\n",
        "               aux = nodo.right\n",
        "               principal.right = aux\n",
        "               aux.principal = principal\n",
        "               print(\"Eliminado\")\n",
        "\n",
        "  def __minimo(self, arbol):\n",
        "    if arbol == None:\n",
        "      return\n",
        "    if arbol.left:\n",
        "      self.contador += 1\n",
        "      return self.__minimo(arbol.left)\n",
        "    else:\n",
        "      return arbol"
      ],
      "execution_count": 41,
      "outputs": []
    },
    {
      "cell_type": "code",
      "metadata": {
        "colab": {
          "base_uri": "https://localhost:8080/"
        },
        "id": "aHvhmOZwjn5b",
        "outputId": "684df0de-a096-4580-8ec8-2e37eb609e56"
      },
      "source": [
        "arb1 = BinarySerachTree()\n",
        "arb1.insert(60)\n",
        "arb1.insert(30)\n",
        "arb1.insert(15)\n",
        "arb1.insert(40)\n",
        "arb1.transversal(\"posorden\")\n",
        "arb1.transversal(\"preorden\")\n",
        "arb1.transversal(\"inorden\")\n"
      ],
      "execution_count": 47,
      "outputs": [
        {
          "output_type": "stream",
          "name": "stdout",
          "text": [
            "\n",
            "15 , 40 , 30 , 60 , \n",
            "60 , 30 , 15 , 40 , \n",
            "60 , 30 , 15 , 40 , \n"
          ]
        }
      ]
    },
    {
      "cell_type": "code",
      "metadata": {
        "colab": {
          "base_uri": "https://localhost:8080/"
        },
        "id": "0zzK5M5grP6t",
        "outputId": "2f22c41e-9487-4cf5-ba66-699da79cf9d7"
      },
      "source": [
        "arbolEliminar = BinarySerachTree()\n",
        "arbolEliminar.insert(8)\n",
        "arbolEliminar.insert(5)\n",
        "arbolEliminar.insert(1)\n",
        "arbolEliminar.insert(4)\n",
        "arbolEliminar.insert(6)\n",
        "arbolEliminar.insert(7)\n",
        "arbolEliminar.insert(20)\n",
        "arbolEliminar.insert(12)\n",
        "arbolEliminar.insert(23)\n",
        "\n",
        "arbolEliminar.transversal(\"inorden\")\n",
        "\n",
        "arbolEliminar.remove(3)\n",
        "\n",
        "arbolEliminar.transversal(\"inorden\")"
      ],
      "execution_count": 46,
      "outputs": [
        {
          "output_type": "stream",
          "name": "stdout",
          "text": [
            "8 , 5 , 1 , 4 , 6 , 7 , 20 , 12 , 23 , \n",
            "No se encontro nada, no hay, no existe XD\n",
            "8 , 5 , 1 , 4 , 6 , 7 , 20 , 12 , 23 , \n"
          ]
        }
      ]
    }
  ]
}