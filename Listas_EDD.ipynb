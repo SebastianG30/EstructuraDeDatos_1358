{
  "nbformat": 4,
  "nbformat_minor": 0,
  "metadata": {
    "colab": {
      "name": "Listas_EDD.ipynb",
      "provenance": [],
      "authorship_tag": "ABX9TyMyO/RkC8u6ut8mnE/l1ero",
      "include_colab_link": true
    },
    "kernelspec": {
      "name": "python3",
      "display_name": "Python 3"
    },
    "language_info": {
      "name": "python"
    }
  },
  "cells": [
    {
      "cell_type": "markdown",
      "metadata": {
        "id": "view-in-github",
        "colab_type": "text"
      },
      "source": [
        "<a href=\"https://colab.research.google.com/github/SebastianG30/EstructuraDeDatos_1358/blob/main/Listas_EDD.ipynb\" target=\"_parent\"><img src=\"https://colab.research.google.com/assets/colab-badge.svg\" alt=\"Open In Colab\"/></a>"
      ]
    },
    {
      "cell_type": "code",
      "metadata": {
        "id": "MX3oJsXvSBXZ"
      },
      "source": [
        "class Nodo:\n",
        "  def __init__(self, value, siguiente=None):\n",
        "    self.data = value\n",
        "    self.next = siguiente\n",
        "    "
      ],
      "execution_count": 1,
      "outputs": []
    },
    {
      "cell_type": "code",
      "metadata": {
        "colab": {
          "base_uri": "https://localhost:8080/"
        },
        "id": "ObIDyTpNTg2x",
        "outputId": "05ad86cc-5e64-4beb-9475-819baf3d1406"
      },
      "source": [
        "head = Nodo(30)\n",
        "print(head.data)\n",
        "print(head.next)\n",
        "\n",
        "head2 = Nodo(20)\n",
        "head2.next = Nodo(15)\n",
        "print(head2.next.data)\n",
        "print(head2.data)\n",
        "\n",
        "\n",
        "print(\"Hacer lo mismo pero con el otro metodo\")\n",
        "\n",
        "punto_entrada = Nodo(20, Nodo(15))\n",
        "print(punto_entrada.data)\n",
        "print(punto_entrada.next.data)"
      ],
      "execution_count": 6,
      "outputs": [
        {
          "output_type": "stream",
          "name": "stdout",
          "text": [
            "30\n",
            "None\n",
            "15\n",
            "20\n",
            "Hacer lo mismo pero con el otro metodo\n",
            "20\n",
            "15\n"
          ]
        }
      ]
    }
  ]
}