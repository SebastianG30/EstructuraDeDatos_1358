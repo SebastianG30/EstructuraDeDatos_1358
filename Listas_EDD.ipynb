{
  "nbformat": 4,
  "nbformat_minor": 0,
  "metadata": {
    "colab": {
      "name": "Listas_EDD.ipynb",
      "provenance": [],
      "authorship_tag": "ABX9TyMGL3T3xJARLFUV1ImNRGtU",
      "include_colab_link": true
    },
    "kernelspec": {
      "name": "python3",
      "display_name": "Python 3"
    },
    "language_info": {
      "name": "python"
    }
  },
  "cells": [
    {
      "cell_type": "markdown",
      "metadata": {
        "id": "view-in-github",
        "colab_type": "text"
      },
      "source": [
        "<a href=\"https://colab.research.google.com/github/SebastianG30/EstructuraDeDatos_1358/blob/main/Listas_EDD.ipynb\" target=\"_parent\"><img src=\"https://colab.research.google.com/assets/colab-badge.svg\" alt=\"Open In Colab\"/></a>"
      ]
    },
    {
      "cell_type": "code",
      "metadata": {
        "id": "MX3oJsXvSBXZ"
      },
      "source": [
        "class Nodo:\n",
        "  def __init__(self, value, siguiente=None):\n",
        "    self.data = value\n",
        "    self.next = siguiente\n",
        "    "
      ],
      "execution_count": 1,
      "outputs": []
    },
    {
      "cell_type": "code",
      "metadata": {
        "colab": {
          "base_uri": "https://localhost:8080/"
        },
        "id": "ObIDyTpNTg2x",
        "outputId": "a4859f54-0796-4ff8-e540-9442337f3cb2"
      },
      "source": [
        "head = Nodo(30)\n",
        "print(head.data)\n",
        "print(head.next)\n",
        "\n",
        "head2 = Nodo(20)\n",
        "head2.next = Nodo(15)\n",
        "print(head2.next.data)\n",
        "print(head2.data)\n",
        "\n",
        "\n",
        "print(\"Hacer lo mismo pero con el otro metodo\")\n",
        "\n",
        "punto_entrada = Nodo(20, Nodo(15))\n",
        "print(punto_entrada.data)\n",
        "print(punto_entrada.next.data)\n",
        "\n",
        "print(\"----Ejercicio 3----\")\n",
        "head3 = Nodo( 10, Nodo(20, Nodo(30)))\n",
        "print(head3.next.next.data)\n",
        "\n",
        "print(\"---Ejercicio 4----\")\n",
        "head4 = Nodo(5, Nodo(6, Nodo(7, Nodo(8, Nodo(9)))))\n",
        "print(head4.next.next.data)"
      ],
      "execution_count": 24,
      "outputs": [
        {
          "output_type": "stream",
          "name": "stdout",
          "text": [
            "30\n",
            "None\n",
            "15\n",
            "20\n",
            "Hacer lo mismo pero con el otro metodo\n",
            "20\n",
            "15\n",
            "----Ejercicio 3----\n",
            "30\n",
            "---Ejercicio 4----\n",
            "7\n"
          ]
        }
      ]
    },
    {
      "cell_type": "markdown",
      "metadata": {
        "id": "p9zrKaOlhAq9"
      },
      "source": [
        "Recorrer una lista ligada dinamicamente"
      ]
    },
    {
      "cell_type": "code",
      "metadata": {
        "colab": {
          "base_uri": "https://localhost:8080/"
        },
        "id": "VU7paEknhFwc",
        "outputId": "164c8b05-673e-4d7b-add9-e71d9cb69bc9"
      },
      "source": [
        "head4 = Nodo(5, Nodo(6, Nodo(7, Nodo(8, Nodo(9)))))\n",
        "\n",
        "curr_node = head4\n",
        "\n",
        "while curr_node != None:\n",
        "  print(curr_node.data)\n",
        "  curr_node = curr_node.next\n",
        "\n",
        "\n",
        "\n",
        "print(\"AGREGAR 10 AL FINAL\")\n",
        "curr_node = head4\n",
        "while curr_node.next != None:\n",
        "  print(curr_node.data)\n",
        "  curr_node = curr_node.next\n",
        "curr_node.next = Nodo(10)\n",
        "\n",
        "while curr_node != None:\n",
        "  print(curr_node.data)\n",
        "  curr_node = curr_node.next"
      ],
      "execution_count": 43,
      "outputs": [
        {
          "output_type": "stream",
          "name": "stdout",
          "text": [
            "5\n",
            "6\n",
            "7\n",
            "8\n",
            "9\n",
            "AGREGAR 10 AL FINAL\n",
            "5\n",
            "6\n",
            "7\n",
            "8\n",
            "9\n",
            "10\n"
          ]
        }
      ]
    },
    {
      "cell_type": "code",
      "metadata": {
        "colab": {
          "base_uri": "https://localhost:8080/"
        },
        "id": "GWap1Iw8mV4U",
        "outputId": "f7ad2492-4b3c-4d2b-90f5-aca5e924f922"
      },
      "source": [
        "class Nodo:\n",
        "  def __init__(self, value, siguiente=None):\n",
        "    self.data = value\n",
        "    self.next = siguiente\n",
        "\n",
        "class LinkedListADT:\n",
        "  def __init__(self):\n",
        "    self.head = None\n",
        "\n",
        "  def is_empty(self):\n",
        "    return self.head == None\n",
        "  \n",
        "  def get_tail(self):\n",
        "    curr_node = self.head\n",
        "    if curr_node !=None:\n",
        "      while curr_node.next != None:\n",
        "        curr_node = curr_node.next\n",
        "    return curr_node\n",
        "\n",
        "  def append(self, dato):\n",
        "    if self.is_empty():\n",
        "      self.head = Nodo(dato)\n",
        "    else:\n",
        "      #self.get_tail().next = Nodo(dato)\n",
        "      tmp = self.get_tail()\n",
        "      tmp.next = Nodo(dato)\n",
        "\n",
        "  def transversal( self ):\n",
        "        curr_node=self.head\n",
        "        while curr_node != None:\n",
        "            print( curr_node.data , end=\" --> \")\n",
        "            curr_node = curr_node.next  \n",
        "\n",
        "def main():\n",
        "  lsl = LinkedListADT()\n",
        "  print(lsl.is_empty() )\n",
        "  nodo = lsl.get_tail()\n",
        "  print(nodo) #None\n",
        "  lsl.append(10)\n",
        "  lsl.append(20)\n",
        "  lsl.transversal()\n",
        "\n",
        "main()"
      ],
      "execution_count": 56,
      "outputs": [
        {
          "output_type": "stream",
          "name": "stdout",
          "text": [
            "True\n",
            "None\n",
            "10 --> 20 --> "
          ]
        }
      ]
    }
  ]
}